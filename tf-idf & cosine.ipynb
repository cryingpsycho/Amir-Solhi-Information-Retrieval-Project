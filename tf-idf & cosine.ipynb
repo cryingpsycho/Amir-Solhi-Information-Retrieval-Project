{
 "cells": [
  {
   "cell_type": "code",
   "execution_count": null,
   "metadata": {},
   "outputs": [],
   "source": [
    "from sklearn.feature_extraction.text import TfidfVectorizer\n",
    "from sklearn.metrics.pairwise import cosine_similarity\n",
    "from tqdm import tqdm\n",
    "import numpy as np\n",
    "import pandas as pd\n"
   ]
  },
  {
   "cell_type": "markdown",
   "metadata": {},
   "source": [
    "# Query processing"
   ]
  },
  {
   "cell_type": "code",
   "execution_count": null,
   "metadata": {},
   "outputs": [],
   "source": [
    "corpusdf= pd.read_csv(\"hackernews.csv\")"
   ]
  },
  {
   "cell_type": "code",
   "execution_count": null,
   "metadata": {},
   "outputs": [],
   "source": [
    "corpusdf"
   ]
  },
  {
   "cell_type": "code",
   "execution_count": null,
   "metadata": {},
   "outputs": [],
   "source": [
    "docs = corpusdf.loc[ : , 'title']\n",
    "docslist = docs.values.tolist()"
   ]
  },
  {
   "cell_type": "code",
   "execution_count": null,
   "metadata": {},
   "outputs": [],
   "source": [
    "docslist"
   ]
  },
  {
   "cell_type": "code",
   "execution_count": null,
   "metadata": {},
   "outputs": [],
   "source": [
    "# tf-idf\n",
    "vectorizer = TfidfVectorizer()\n",
    "tfidf_docs = vectorizer.fit_transform(docslist)"
   ]
  },
  {
   "cell_type": "code",
   "execution_count": null,
   "metadata": {},
   "outputs": [],
   "source": [
    "tfidf_docs.shape, len(vectorizer.vocabulary_)"
   ]
  },
  {
   "cell_type": "code",
   "execution_count": null,
   "metadata": {},
   "outputs": [],
   "source": [
    "list(vectorizer.vocabulary_.keys())[:10]"
   ]
  },
  {
   "cell_type": "code",
   "execution_count": null,
   "metadata": {},
   "outputs": [],
   "source": [
    "# query\n",
    "query = 'social media'\n",
    "\n",
    "tfidf_query = vectorizer.transform([query])[0]"
   ]
  },
  {
   "cell_type": "code",
   "execution_count": null,
   "metadata": {},
   "outputs": [],
   "source": [
    "# similarities\n",
    "cosines = []\n",
    "for d in tqdm(tfidf_docs):\n",
    "  cosines.append(float(cosine_similarity(d, tfidf_query)))"
   ]
  },
  {
   "cell_type": "code",
   "execution_count": null,
   "metadata": {},
   "outputs": [],
   "source": [
    "# sorting\n",
    "k = 10\n",
    "sorted_ids = np.argsort(cosines)\n",
    "for i in range(k):\n",
    "  cur_id = sorted_ids[-i-1]\n",
    "  print(docs[cur_id], cosines[cur_id])"
   ]
  },
  {
   "cell_type": "code",
   "execution_count": null,
   "metadata": {},
   "outputs": [],
   "source": [
    "# sorting with details\n",
    "k = 10\n",
    "sorted_ids = np.argsort(cosines)\n",
    "for i in range(k):\n",
    "  cur_id = sorted_ids[-i-1]\n",
    "  print(corpusdf.loc[cur_id],'\\n Cosine Similarity:', cosines[cur_id])"
   ]
  }
 ],
 "metadata": {
  "interpreter": {
   "hash": "4c4793b24bd62b37448de0fab469affcead014e6613862d32e2345ffefa1c6e8"
  },
  "kernelspec": {
   "display_name": "Python 3.10.4 64-bit",
   "language": "python",
   "name": "python3"
  },
  "language_info": {
   "codemirror_mode": {
    "name": "ipython",
    "version": 3
   },
   "file_extension": ".py",
   "mimetype": "text/x-python",
   "name": "python",
   "nbconvert_exporter": "python",
   "pygments_lexer": "ipython3",
   "version": "3.10.4"
  },
  "orig_nbformat": 4
 },
 "nbformat": 4,
 "nbformat_minor": 2
}
